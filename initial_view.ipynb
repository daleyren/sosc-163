{
 "cells": [
  {
   "cell_type": "code",
   "execution_count": 1,
   "metadata": {},
   "outputs": [],
   "source": [
    "import pandas as pd\n",
    "import numpy as np\n",
    "import matplotlib.pyplot as plt"
   ]
  },
  {
   "cell_type": "markdown",
   "metadata": {},
   "source": [
    "Main two datasets are: [High School Transcript (Student)](els_02_12_byf3pststu_v1_0.csv) and [BY Weights and Composites](els_02_12_byf3stubrr_v1_0.csv)"
   ]
  },
  {
   "cell_type": "code",
   "execution_count": null,
   "metadata": {},
   "outputs": [],
   "source": [
    "'''\n",
    "BYF3PSTSTU.PRI\tBYRACE_R\tStudent's race/ethnicity-composite (restricted)\tComposite\tBY Weights and Composites\n",
    "BYF3PSTSTU.PRI\tBYRACE\tStudent's race/ethnicity-composite\tComposite\tBY Weights and Composites\n",
    "BYF3PSTSTU.PRI\tBYRACE2\tStudent's race/ethnicity-64 category (restricted)\tComposite\tBY Weights and Composites\n",
    "BYF3PSTSTU.PRI\tBYRACE_3\tStudent is Asian-composite (restricted)\tComposite\tBY Weights and Composites\n",
    "BYF3PSTSTU.PRI\tBYGNSTAT\tGenerational status\tComposite\tBY Weights and Composites\n",
    "BYF3PSTSTU.PRI\tF1RGPP2\tGPA for all courses taken in the 9th - 12th grades - categorical\tComposite\tHigh School Transcript (Student)\n",
    "BYF3PSTSTU.PRI\tF1RGPP\tGPA for all courses taken in the 9th - 12th grades - categorical\tComposite\tHigh School Transcript (Student)\n",
    "BYF3PSTSTU.PRI\tF1RAGPP\tGPA for all academic courses 9th - 12th grades - categorical\tComposite\tHigh School Transcript (Student)\n",
    "BYF3PSTSTU.PRI\tF2WYLV10\tLeft school because was getting poor grades/failing school\tComposite\tF2 Weights and Composites\n",
    "BYF3PSTSTU.PRI\tBYS23C\tRecognized for good grades\tQuestionnaire\tBY Student Questionnaire\n",
    "BYF3PSTSTU.PRI\tBYS37\tImportance of good grades to student\tQuestionnaire\tBY Student Questionnaire\n",
    "BYF3PSTSTU.PRI\tBYS86D\tHow often discussed grades with parents\tQuestionnaire\tBY Student Questionnaire\n",
    "BYF3PSTSTU.PRI\tBYS90D\tImportant to friends to get good grades\tQuestionnaire\tBY Student Questionnaire\n",
    "BYF3PSTSTU.PRI\tF1S64D\tHow often discussed grades with parents\tQuestionnaire\tF1 Student Questionnaire\n",
    "BYF3PSTSTU.PRI\tBYTE04\tStudent usually works hard for good grades (English)\tQuestionnaire\tBY Teacher Questionnaire (English)\n",
    "BYF3PSTSTU.PRI\tBYTM04\tStudent usually works hard for good grades (math)\tQuestionnaire\tBY Teacher Questionnaire (Math)\n",
    "'''"
   ]
  },
  {
   "cell_type": "code",
   "execution_count": 11,
   "metadata": {},
   "outputs": [],
   "source": [
    "# brr_data = pd.read_csv('els_02_12_byf3pststu_v1_0.csv', low_memory=False)\n",
    "# syntax_data = pd.read_csv('ELS_2002-12_PETS_v1_0_Other_CSV_Datasets/els_02_12_byf1sch_v1_0.csv', low_memory=False)\n",
    "stu_data = pd.read_csv('els_02_12_byf3pststu_v1_0.csv', low_memory=False)"
   ]
  },
  {
   "cell_type": "code",
   "execution_count": 18,
   "metadata": {},
   "outputs": [
    {
     "data": {
      "text/html": [
       "<div>\n",
       "<style scoped>\n",
       "    .dataframe tbody tr th:only-of-type {\n",
       "        vertical-align: middle;\n",
       "    }\n",
       "\n",
       "    .dataframe tbody tr th {\n",
       "        vertical-align: top;\n",
       "    }\n",
       "\n",
       "    .dataframe thead th {\n",
       "        text-align: right;\n",
       "    }\n",
       "</style>\n",
       "<table border=\"1\" class=\"dataframe\">\n",
       "  <thead>\n",
       "    <tr style=\"text-align: right;\">\n",
       "      <th></th>\n",
       "      <th>STU_ID</th>\n",
       "      <th>SCH_ID</th>\n",
       "      <th>STRAT_ID</th>\n",
       "      <th>PSU</th>\n",
       "      <th>F1SCH_ID</th>\n",
       "      <th>F1UNIV1</th>\n",
       "      <th>F1UNIV2A</th>\n",
       "      <th>F1UNIV2B</th>\n",
       "      <th>F2UNIV1</th>\n",
       "      <th>F2UNIV_P</th>\n",
       "      <th>...</th>\n",
       "      <th>BYF10D</th>\n",
       "      <th>BYF10E</th>\n",
       "      <th>BYF10F</th>\n",
       "      <th>BYF10G</th>\n",
       "      <th>BYF10H</th>\n",
       "      <th>BYF10I</th>\n",
       "      <th>BYF10J</th>\n",
       "      <th>BYF10K</th>\n",
       "      <th>BYF10L</th>\n",
       "      <th>BYF10M</th>\n",
       "    </tr>\n",
       "  </thead>\n",
       "  <tbody>\n",
       "    <tr>\n",
       "      <th>1</th>\n",
       "      <td>101102</td>\n",
       "      <td>-5</td>\n",
       "      <td>101</td>\n",
       "      <td>1</td>\n",
       "      <td>1011</td>\n",
       "      <td>101</td>\n",
       "      <td>1</td>\n",
       "      <td>1</td>\n",
       "      <td>-5</td>\n",
       "      <td>101</td>\n",
       "      <td>...</td>\n",
       "      <td>0</td>\n",
       "      <td>1</td>\n",
       "      <td>1</td>\n",
       "      <td>1</td>\n",
       "      <td>1</td>\n",
       "      <td>1</td>\n",
       "      <td>1</td>\n",
       "      <td>1</td>\n",
       "      <td>0</td>\n",
       "      <td>0</td>\n",
       "    </tr>\n",
       "    <tr>\n",
       "      <th>13</th>\n",
       "      <td>101115</td>\n",
       "      <td>-5</td>\n",
       "      <td>101</td>\n",
       "      <td>1</td>\n",
       "      <td>1011</td>\n",
       "      <td>101</td>\n",
       "      <td>1</td>\n",
       "      <td>1</td>\n",
       "      <td>-5</td>\n",
       "      <td>101</td>\n",
       "      <td>...</td>\n",
       "      <td>0</td>\n",
       "      <td>1</td>\n",
       "      <td>1</td>\n",
       "      <td>1</td>\n",
       "      <td>1</td>\n",
       "      <td>1</td>\n",
       "      <td>1</td>\n",
       "      <td>1</td>\n",
       "      <td>0</td>\n",
       "      <td>0</td>\n",
       "    </tr>\n",
       "    <tr>\n",
       "      <th>14</th>\n",
       "      <td>101116</td>\n",
       "      <td>-5</td>\n",
       "      <td>101</td>\n",
       "      <td>1</td>\n",
       "      <td>1011</td>\n",
       "      <td>101</td>\n",
       "      <td>1</td>\n",
       "      <td>1</td>\n",
       "      <td>-5</td>\n",
       "      <td>101</td>\n",
       "      <td>...</td>\n",
       "      <td>0</td>\n",
       "      <td>1</td>\n",
       "      <td>1</td>\n",
       "      <td>1</td>\n",
       "      <td>1</td>\n",
       "      <td>1</td>\n",
       "      <td>1</td>\n",
       "      <td>1</td>\n",
       "      <td>0</td>\n",
       "      <td>0</td>\n",
       "    </tr>\n",
       "    <tr>\n",
       "      <th>19</th>\n",
       "      <td>101121</td>\n",
       "      <td>-5</td>\n",
       "      <td>101</td>\n",
       "      <td>1</td>\n",
       "      <td>1011</td>\n",
       "      <td>101</td>\n",
       "      <td>1</td>\n",
       "      <td>1</td>\n",
       "      <td>-5</td>\n",
       "      <td>101</td>\n",
       "      <td>...</td>\n",
       "      <td>0</td>\n",
       "      <td>1</td>\n",
       "      <td>1</td>\n",
       "      <td>1</td>\n",
       "      <td>1</td>\n",
       "      <td>1</td>\n",
       "      <td>1</td>\n",
       "      <td>1</td>\n",
       "      <td>0</td>\n",
       "      <td>0</td>\n",
       "    </tr>\n",
       "    <tr>\n",
       "      <th>24</th>\n",
       "      <td>101126</td>\n",
       "      <td>-5</td>\n",
       "      <td>101</td>\n",
       "      <td>1</td>\n",
       "      <td>1011</td>\n",
       "      <td>101</td>\n",
       "      <td>1</td>\n",
       "      <td>1</td>\n",
       "      <td>-5</td>\n",
       "      <td>101</td>\n",
       "      <td>...</td>\n",
       "      <td>0</td>\n",
       "      <td>1</td>\n",
       "      <td>1</td>\n",
       "      <td>1</td>\n",
       "      <td>1</td>\n",
       "      <td>1</td>\n",
       "      <td>1</td>\n",
       "      <td>1</td>\n",
       "      <td>0</td>\n",
       "      <td>0</td>\n",
       "    </tr>\n",
       "    <tr>\n",
       "      <th>...</th>\n",
       "      <td>...</td>\n",
       "      <td>...</td>\n",
       "      <td>...</td>\n",
       "      <td>...</td>\n",
       "      <td>...</td>\n",
       "      <td>...</td>\n",
       "      <td>...</td>\n",
       "      <td>...</td>\n",
       "      <td>...</td>\n",
       "      <td>...</td>\n",
       "      <td>...</td>\n",
       "      <td>...</td>\n",
       "      <td>...</td>\n",
       "      <td>...</td>\n",
       "      <td>...</td>\n",
       "      <td>...</td>\n",
       "      <td>...</td>\n",
       "      <td>...</td>\n",
       "      <td>...</td>\n",
       "      <td>...</td>\n",
       "      <td>...</td>\n",
       "    </tr>\n",
       "    <tr>\n",
       "      <th>16031</th>\n",
       "      <td>456203</td>\n",
       "      <td>-5</td>\n",
       "      <td>456</td>\n",
       "      <td>2</td>\n",
       "      <td>-8</td>\n",
       "      <td>105</td>\n",
       "      <td>1</td>\n",
       "      <td>4</td>\n",
       "      <td>-5</td>\n",
       "      <td>101</td>\n",
       "      <td>...</td>\n",
       "      <td>0</td>\n",
       "      <td>0</td>\n",
       "      <td>1</td>\n",
       "      <td>0</td>\n",
       "      <td>0</td>\n",
       "      <td>0</td>\n",
       "      <td>1</td>\n",
       "      <td>0</td>\n",
       "      <td>0</td>\n",
       "      <td>0</td>\n",
       "    </tr>\n",
       "    <tr>\n",
       "      <th>16032</th>\n",
       "      <td>456204</td>\n",
       "      <td>-5</td>\n",
       "      <td>456</td>\n",
       "      <td>2</td>\n",
       "      <td>-8</td>\n",
       "      <td>106</td>\n",
       "      <td>1</td>\n",
       "      <td>3</td>\n",
       "      <td>-5</td>\n",
       "      <td>101</td>\n",
       "      <td>...</td>\n",
       "      <td>0</td>\n",
       "      <td>0</td>\n",
       "      <td>1</td>\n",
       "      <td>0</td>\n",
       "      <td>0</td>\n",
       "      <td>0</td>\n",
       "      <td>1</td>\n",
       "      <td>0</td>\n",
       "      <td>0</td>\n",
       "      <td>0</td>\n",
       "    </tr>\n",
       "    <tr>\n",
       "      <th>16033</th>\n",
       "      <td>456205</td>\n",
       "      <td>-5</td>\n",
       "      <td>456</td>\n",
       "      <td>2</td>\n",
       "      <td>-8</td>\n",
       "      <td>101</td>\n",
       "      <td>1</td>\n",
       "      <td>1</td>\n",
       "      <td>-5</td>\n",
       "      <td>101</td>\n",
       "      <td>...</td>\n",
       "      <td>0</td>\n",
       "      <td>0</td>\n",
       "      <td>1</td>\n",
       "      <td>0</td>\n",
       "      <td>0</td>\n",
       "      <td>0</td>\n",
       "      <td>1</td>\n",
       "      <td>0</td>\n",
       "      <td>0</td>\n",
       "      <td>0</td>\n",
       "    </tr>\n",
       "    <tr>\n",
       "      <th>16072</th>\n",
       "      <td>458104</td>\n",
       "      <td>-5</td>\n",
       "      <td>458</td>\n",
       "      <td>1</td>\n",
       "      <td>4581</td>\n",
       "      <td>101</td>\n",
       "      <td>1</td>\n",
       "      <td>1</td>\n",
       "      <td>-5</td>\n",
       "      <td>101</td>\n",
       "      <td>...</td>\n",
       "      <td>0</td>\n",
       "      <td>0</td>\n",
       "      <td>0</td>\n",
       "      <td>1</td>\n",
       "      <td>-9</td>\n",
       "      <td>1</td>\n",
       "      <td>1</td>\n",
       "      <td>0</td>\n",
       "      <td>1</td>\n",
       "      <td>0</td>\n",
       "    </tr>\n",
       "    <tr>\n",
       "      <th>16172</th>\n",
       "      <td>461115</td>\n",
       "      <td>-5</td>\n",
       "      <td>461</td>\n",
       "      <td>1</td>\n",
       "      <td>4611</td>\n",
       "      <td>101</td>\n",
       "      <td>1</td>\n",
       "      <td>1</td>\n",
       "      <td>-5</td>\n",
       "      <td>101</td>\n",
       "      <td>...</td>\n",
       "      <td>1</td>\n",
       "      <td>1</td>\n",
       "      <td>0</td>\n",
       "      <td>1</td>\n",
       "      <td>1</td>\n",
       "      <td>0</td>\n",
       "      <td>1</td>\n",
       "      <td>0</td>\n",
       "      <td>1</td>\n",
       "      <td>0</td>\n",
       "    </tr>\n",
       "  </tbody>\n",
       "</table>\n",
       "<p>1460 rows × 4012 columns</p>\n",
       "</div>"
      ],
      "text/plain": [
       "       STU_ID  SCH_ID  STRAT_ID  PSU  F1SCH_ID  F1UNIV1  F1UNIV2A  F1UNIV2B  \\\n",
       "1      101102      -5       101    1      1011      101         1         1   \n",
       "13     101115      -5       101    1      1011      101         1         1   \n",
       "14     101116      -5       101    1      1011      101         1         1   \n",
       "19     101121      -5       101    1      1011      101         1         1   \n",
       "24     101126      -5       101    1      1011      101         1         1   \n",
       "...       ...     ...       ...  ...       ...      ...       ...       ...   \n",
       "16031  456203      -5       456    2        -8      105         1         4   \n",
       "16032  456204      -5       456    2        -8      106         1         3   \n",
       "16033  456205      -5       456    2        -8      101         1         1   \n",
       "16072  458104      -5       458    1      4581      101         1         1   \n",
       "16172  461115      -5       461    1      4611      101         1         1   \n",
       "\n",
       "       F2UNIV1  F2UNIV_P  ...  BYF10D  BYF10E  BYF10F  BYF10G  BYF10H  BYF10I  \\\n",
       "1           -5       101  ...       0       1       1       1       1       1   \n",
       "13          -5       101  ...       0       1       1       1       1       1   \n",
       "14          -5       101  ...       0       1       1       1       1       1   \n",
       "19          -5       101  ...       0       1       1       1       1       1   \n",
       "24          -5       101  ...       0       1       1       1       1       1   \n",
       "...        ...       ...  ...     ...     ...     ...     ...     ...     ...   \n",
       "16031       -5       101  ...       0       0       1       0       0       0   \n",
       "16032       -5       101  ...       0       0       1       0       0       0   \n",
       "16033       -5       101  ...       0       0       1       0       0       0   \n",
       "16072       -5       101  ...       0       0       0       1      -9       1   \n",
       "16172       -5       101  ...       1       1       0       1       1       0   \n",
       "\n",
       "       BYF10J  BYF10K  BYF10L  BYF10M  \n",
       "1           1       1       0       0  \n",
       "13          1       1       0       0  \n",
       "14          1       1       0       0  \n",
       "19          1       1       0       0  \n",
       "24          1       1       0       0  \n",
       "...       ...     ...     ...     ...  \n",
       "16031       1       0       0       0  \n",
       "16032       1       0       0       0  \n",
       "16033       1       0       0       0  \n",
       "16072       1       0       1       0  \n",
       "16172       1       0       1       0  \n",
       "\n",
       "[1460 rows x 4012 columns]"
      ]
     },
     "execution_count": 18,
     "metadata": {},
     "output_type": "execute_result"
    }
   ],
   "source": [
    "aapi_data = stu_data[stu_data['BYRACE'] == 2]\n",
    "aapi_data"
   ]
  },
  {
   "cell_type": "code",
   "execution_count": 34,
   "metadata": {},
   "outputs": [
    {
     "name": "stdout",
     "output_type": "stream",
     "text": [
      "Number of First Generation Asian Americans in Sample: 563\n",
      "Number of Second Generation Asian Americans in Sample: 574\n",
      "Number of Third or Later Generation Asian Americans in Sample: 111\n"
     ]
    }
   ],
   "source": [
    "first_generation = aapi_data[aapi_data['BYGNSTAT'] == 1]\n",
    "second_generation = aapi_data[aapi_data['BYGNSTAT'] == 2]\n",
    "later_generation = aapi_data[aapi_data['BYGNSTAT'] == 3]\n",
    "\n",
    "print(f\"Number of First Generation Asian Americans in Sample: {len(first_generation)}\")\n",
    "print(f\"Number of Second Generation Asian Americans in Sample: {len(second_generation)}\")\n",
    "print(f\"Number of Third or Later Generation Asian Americans in Sample: {len(later_generation)}\")\n"
   ]
  },
  {
   "cell_type": "code",
   "execution_count": 37,
   "metadata": {},
   "outputs": [
    {
     "name": "stdout",
     "output_type": "stream",
     "text": [
      "Raw Average First Generation Academic Score: 3.5630550621669625\n",
      "Raw Average Second Generation Academic Score: 4.02787456445993\n",
      "Raw Average Later Generation Academic Score: 3.90990990990991\n"
     ]
    }
   ],
   "source": [
    "print(f\"Raw Average First Generation Academic Score: {first_generation['F1RGPP2'].mean()}\")\n",
    "print(f\"Raw Average Second Generation Academic Score: {second_generation['F1RGPP2'].mean()}\")\n",
    "print(f\"Raw Average Later Generation Academic Score: {later_generation['F1RGPP2'].mean()}\")\n"
   ]
  },
  {
   "cell_type": "markdown",
   "metadata": {},
   "source": [
    "## GPA for all courses taken in the 9th - 12th grades - categorical (F1RGPP2)\n",
    "Clean data in case missing/nonrespondent data skewing results (Missing=-9, Nonrespondent=-4)"
   ]
  },
  {
   "cell_type": "code",
   "execution_count": 41,
   "metadata": {},
   "outputs": [
    {
     "data": {
      "text/plain": [
       "'\\nScore to GPA Translation\\n0\\t0.00 - 1.00\\n1\\t1.01 - 1.50\\n2\\t1.51 - 2.00\\n3\\t2.01 - 2.50\\n4\\t2.51 - 3.00\\n5\\t3.01 - 3.50\\n6\\t3.51 - 4.00\\n-9\\tMissing\\n-4\\tNonrespondent\\n'"
      ]
     },
     "execution_count": 41,
     "metadata": {},
     "output_type": "execute_result"
    }
   ],
   "source": [
    "'''\n",
    "Score to GPA Translation\n",
    "\n",
    "0\t0.00 - 1.00\n",
    "1\t1.01 - 1.50\n",
    "2\t1.51 - 2.00\n",
    "3\t2.01 - 2.50\n",
    "4\t2.51 - 3.00\n",
    "5\t3.01 - 3.50\n",
    "6\t3.51 - 4.00\n",
    "-9\tMissing\n",
    "-4\tNonrespondent\n",
    "'''"
   ]
  },
  {
   "cell_type": "code",
   "execution_count": 46,
   "metadata": {},
   "outputs": [
    {
     "name": "stdout",
     "output_type": "stream",
     "text": [
      "RAW AVERAGE GOOD GRADE RECOGNITION BY GENERATION\n",
      "First Generation: 4.41501976284585\n",
      "Second Generation: 4.501845018450185\n",
      "Later Generation: 4.283018867924528\n"
     ]
    }
   ],
   "source": [
    "print(\"RAW AVERAGE GOOD GRADE RECOGNITION BY GENERATION\")\n",
    "print(f\"First Generation: {first_generation[first_generation['F1RGPP2'] >= 0]['F1RGPP2'].mean()}\")\n",
    "print(f\"Second Generation: {second_generation[second_generation['F1RGPP2'] >= 0]['F1RGPP2'].mean()}\")\n",
    "print(f\"Later Generation: {later_generation[later_generation['F1RGPP2'] >= 0]['F1RGPP2'].mean()}\")"
   ]
  },
  {
   "cell_type": "markdown",
   "metadata": {},
   "source": [
    "## Recognized for good grades (BYS23C)"
   ]
  },
  {
   "cell_type": "code",
   "execution_count": 43,
   "metadata": {},
   "outputs": [
    {
     "data": {
      "text/plain": [
       "'\\nScore to Good Grade Recognition\\n0\\tNo\\n1\\tYes\\t\\n-9\\tMissing\\t\\n-8\\tSurvey component legitimate skip/NA\\t\\n-7\\tNot administered; abbreviated interview or breakoff\\n-6\\tMultiple response\\n-4\\tNonrespondent\\n'"
      ]
     },
     "execution_count": 43,
     "metadata": {},
     "output_type": "execute_result"
    }
   ],
   "source": [
    "'''\n",
    "Score to Good Grade Recognition\n",
    "\n",
    "0\tNo\n",
    "1\tYes\t\n",
    "-9\tMissing\t\n",
    "-8\tSurvey component legitimate skip/NA\t\n",
    "-7\tNot administered; abbreviated interview or breakoff\n",
    "-6\tMultiple response\n",
    "-4\tNonrespondent\n",
    "'''"
   ]
  },
  {
   "cell_type": "code",
   "execution_count": 44,
   "metadata": {},
   "outputs": [
    {
     "name": "stdout",
     "output_type": "stream",
     "text": [
      "AVERAGE GOOD GRADE RECOGNITION BY GENERATION\n",
      "First Generation: 0.5966228893058161\n",
      "Second Generation: 0.5656192236598891\n",
      "Later Generation: 0.47619047619047616\n"
     ]
    }
   ],
   "source": [
    "print(\"AVERAGE GOOD GRADE RECOGNITION BY GENERATION\")\n",
    "print(f\"First Generation: {first_generation[first_generation['BYS23C'] >= 0]['BYS23C'].mean()}\")\n",
    "print(f\"Second Generation: {second_generation[second_generation['BYS23C'] >= 0]['BYS23C'].mean()}\")\n",
    "print(f\"Later Generation: {later_generation[later_generation['BYS23C'] >= 0]['BYS23C'].mean()}\")"
   ]
  },
  {
   "cell_type": "markdown",
   "metadata": {},
   "source": [
    "## Importance of good grades to student (BYS37)\n"
   ]
  },
  {
   "cell_type": "code",
   "execution_count": 47,
   "metadata": {},
   "outputs": [
    {
     "data": {
      "text/plain": [
       "'\\nScore to Importance of Good Grades to Student\\n\\n1\\tNot important\\n2\\tSomewhat important\\n3\\tImportant\\n4\\tVery important\\n-9\\tMissing\\n-8\\tSurvey component legitimate skip/NA\\n-6\\tMultiple response\\n-4\\tNonrespondent\\n'"
      ]
     },
     "execution_count": 47,
     "metadata": {},
     "output_type": "execute_result"
    }
   ],
   "source": [
    "'''\n",
    "Score to Importance of Good Grades to Student\n",
    "\n",
    "1\tNot important\n",
    "2\tSomewhat important\n",
    "3\tImportant\n",
    "4\tVery important\n",
    "-9\tMissing\n",
    "-8\tSurvey component legitimate skip/NA\n",
    "-6\tMultiple response\n",
    "-4\tNonrespondent\n",
    "'''"
   ]
  },
  {
   "cell_type": "code",
   "execution_count": 50,
   "metadata": {},
   "outputs": [
    {
     "name": "stdout",
     "output_type": "stream",
     "text": [
      "AVERAGE GRADE IMPORTANCE TO STUDENT BY GENERATION\n",
      "First Generation: 3.585144927536232\n",
      "Second Generation: 3.5557522123893803\n",
      "Later Generation: 3.4299065420560746\n"
     ]
    }
   ],
   "source": [
    "print(\"AVERAGE GRADE IMPORTANCE TO STUDENT BY GENERATION\")\n",
    "print(f\"First Generation: {first_generation[first_generation['BYS37'] >= 0]['BYS37'].mean()}\")\n",
    "print(f\"Second Generation: {second_generation[second_generation['BYS37'] >= 0]['BYS37'].mean()}\")\n",
    "print(f\"Later Generation: {later_generation[later_generation['BYS37'] >= 0]['BYS37'].mean()}\")"
   ]
  },
  {
   "cell_type": "markdown",
   "metadata": {},
   "source": [
    "## How often discussed grades with parents (BYS86D)"
   ]
  },
  {
   "cell_type": "code",
   "execution_count": 51,
   "metadata": {},
   "outputs": [
    {
     "data": {
      "text/plain": [
       "'\\n1\\tNever\\n2\\tSometimes\\n3\\tOften\\n-9\\tMissing\\n-8\\tSurvey component legitimate skip/NA\\n-6\\tMultiple response\\n-4\\tNonrespondent\\n'"
      ]
     },
     "execution_count": 51,
     "metadata": {},
     "output_type": "execute_result"
    }
   ],
   "source": [
    "'''\n",
    "1\tNever\n",
    "2\tSometimes\n",
    "3\tOften\n",
    "-9\tMissing\n",
    "-8\tSurvey component legitimate skip/NA\n",
    "-6\tMultiple response\n",
    "-4\tNonrespondent\n",
    "'''"
   ]
  },
  {
   "cell_type": "code",
   "execution_count": 52,
   "metadata": {},
   "outputs": [
    {
     "name": "stdout",
     "output_type": "stream",
     "text": [
      "AVERAGE FREQUENCY OF DISCUSSION OF GRADES WITH PARENTS BY GENERATION\n",
      "First Generation: 2.3816964285714284\n",
      "Second Generation: 2.376278118609407\n",
      "Later Generation: 2.4791666666666665\n"
     ]
    }
   ],
   "source": [
    "print(\"AVERAGE FREQUENCY OF DISCUSSION OF GRADES WITH PARENTS BY GENERATION\")\n",
    "print(f\"First Generation: {first_generation[first_generation['BYS86D'] >= 0]['BYS86D'].mean()}\")\n",
    "print(f\"Second Generation: {second_generation[second_generation['BYS86D'] >= 0]['BYS86D'].mean()}\")\n",
    "print(f\"Later Generation: {later_generation[later_generation['BYS86D'] >= 0]['BYS86D'].mean()}\")"
   ]
  },
  {
   "cell_type": "markdown",
   "metadata": {},
   "source": [
    "### How often discussed grades with parents (F1S64D)"
   ]
  },
  {
   "cell_type": "code",
   "execution_count": 53,
   "metadata": {},
   "outputs": [
    {
     "data": {
      "text/plain": [
       "\"\\n1\\tNever\\n2\\tSometimes\\n3\\tOften\\n-9\\tMissing\\n-8\\tSurvey component legitimate skip/NA\\n-7\\tNot administered; abbreviated interview or breakoff\\n-6\\tMultiple response\\n-4\\tNonrespondent\\n-1\\tDon't know\\n\""
      ]
     },
     "execution_count": 53,
     "metadata": {},
     "output_type": "execute_result"
    }
   ],
   "source": [
    "'''\n",
    "1\tNever\n",
    "2\tSometimes\n",
    "3\tOften\n",
    "-9\tMissing\n",
    "-8\tSurvey component legitimate skip/NA\n",
    "-7\tNot administered; abbreviated interview or breakoff\n",
    "-6\tMultiple response\n",
    "-4\tNonrespondent\n",
    "-1\tDon't know\n",
    "'''"
   ]
  },
  {
   "cell_type": "code",
   "execution_count": 54,
   "metadata": {},
   "outputs": [
    {
     "name": "stdout",
     "output_type": "stream",
     "text": [
      "AVERAGE FREQUENCY OF DISCUSSION OF GRADES WITH PARENTS BY GENERATION\n",
      "First Generation: 2.3859275053304905\n",
      "Second Generation: 2.347826086956522\n",
      "Later Generation: 2.4591836734693877\n"
     ]
    }
   ],
   "source": [
    "print(\"AVERAGE FREQUENCY OF DISCUSSION OF GRADES WITH PARENTS BY GENERATION\")\n",
    "print(f\"First Generation: {first_generation[first_generation['F1S64D'] >= 0]['F1S64D'].mean()}\")\n",
    "print(f\"Second Generation: {second_generation[second_generation['F1S64D'] >= 0]['F1S64D'].mean()}\")\n",
    "print(f\"Later Generation: {later_generation[later_generation['F1S64D'] >= 0]['F1S64D'].mean()}\")"
   ]
  },
  {
   "cell_type": "markdown",
   "metadata": {},
   "source": [
    "## Important to friends to get good grades (BYS90D)"
   ]
  },
  {
   "cell_type": "code",
   "execution_count": 55,
   "metadata": {},
   "outputs": [
    {
     "data": {
      "text/plain": [
       "'\\n1\\tNot important\\n2\\tSomewhat important\\n3\\tVery important\\n-9\\tMissing\\n-8\\tSurvey component legitimate skip/NA\\n-7\\tNot administered; abbreviated interview or breakoff\\n-6\\tMultiple response\\n-4\\tNonrespondent\\n'"
      ]
     },
     "execution_count": 55,
     "metadata": {},
     "output_type": "execute_result"
    }
   ],
   "source": [
    "'''\n",
    "1\tNot important\n",
    "2\tSomewhat important\n",
    "3\tVery important\n",
    "-9\tMissing\n",
    "-8\tSurvey component legitimate skip/NA\n",
    "-7\tNot administered; abbreviated interview or breakoff\n",
    "-6\tMultiple response\n",
    "-4\tNonrespondent\n",
    "'''"
   ]
  },
  {
   "cell_type": "code",
   "execution_count": 56,
   "metadata": {},
   "outputs": [
    {
     "name": "stdout",
     "output_type": "stream",
     "text": [
      "AVERAGE IMPORTANCE OF GRADES AMONG FRIENDS BY GENERATION\n",
      "First Generation: 2.537275064267352\n",
      "Second Generation: 2.5866336633663365\n",
      "Later Generation: 2.4565217391304346\n"
     ]
    }
   ],
   "source": [
    "print(\"AVERAGE IMPORTANCE OF GRADES AMONG FRIENDS BY GENERATION\")\n",
    "print(f\"First Generation: {first_generation[first_generation['BYS90D'] >= 0]['BYS90D'].mean()}\")\n",
    "print(f\"Second Generation: {second_generation[second_generation['BYS90D'] >= 0]['BYS90D'].mean()}\")\n",
    "print(f\"Later Generation: {later_generation[later_generation['BYS90D'] >= 0]['BYS90D'].mean()}\")"
   ]
  }
 ],
 "metadata": {
  "kernelspec": {
   "display_name": "Python 3",
   "language": "python",
   "name": "python3"
  },
  "language_info": {
   "codemirror_mode": {
    "name": "ipython",
    "version": 3
   },
   "file_extension": ".py",
   "mimetype": "text/x-python",
   "name": "python",
   "nbconvert_exporter": "python",
   "pygments_lexer": "ipython3",
   "version": "3.8.10"
  }
 },
 "nbformat": 4,
 "nbformat_minor": 2
}
